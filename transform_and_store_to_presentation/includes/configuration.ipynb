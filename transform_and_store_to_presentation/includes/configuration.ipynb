{
 "cells": [
  {
   "cell_type": "code",
   "execution_count": 0,
   "metadata": {
    "application/vnd.databricks.v1+cell": {
     "cellMetadata": {
      "byteLimit": 2048000,
      "rowLimit": 10000
     },
     "inputWidgets": {},
     "nuid": "529b58d0-fe8c-457d-ba70-1977e220909e",
     "showTitle": false,
     "title": ""
    }
   },
   "outputs": [],
   "source": [
    "raw_folder_path = \"dbfs:/mnt/formula1projectdl2/raw\"\n",
    "processed_folder_path = \"dbfs:/mnt/formula1projectdl2/processed\"\n",
    "presentation_folder_path = \"dbfs:/mnt/formula1projectdl2//presentation\""
   ]
  },
  {
   "cell_type": "code",
   "execution_count": 0,
   "metadata": {
    "application/vnd.databricks.v1+cell": {
     "cellMetadata": {
      "byteLimit": 2048000,
      "rowLimit": 10000
     },
     "inputWidgets": {},
     "nuid": "0ea328e9-ce54-4aee-ac50-f4aa94777008",
     "showTitle": false,
     "title": ""
    }
   },
   "outputs": [],
   "source": [
    "#raw_folder_path = 'abfss://raw@formula1dl.dfs.core.windows.net'\n",
    "#processed_folder_path = 'abfss://processed@formula1dl.dfs.core.windows.net'\n",
    "#presentation_folder_path = 'abfss://presentation@formula1dl.dfs.core.windows.net'"
   ]
  },
  {
   "cell_type": "code",
   "execution_count": 0,
   "metadata": {
    "application/vnd.databricks.v1+cell": {
     "cellMetadata": {
      "byteLimit": 2048000,
      "rowLimit": 10000
     },
     "inputWidgets": {},
     "nuid": "703da890-0594-4771-9647-d6627bb1f602",
     "showTitle": false,
     "title": ""
    }
   },
   "outputs": [],
   "source": []
  }
 ],
 "metadata": {
  "application/vnd.databricks.v1+notebook": {
   "dashboards": [],
   "language": "python",
   "notebookMetadata": {
    "pythonIndentUnit": 2
   },
   "notebookName": "configuration",
   "widgets": {}
  }
 },
 "nbformat": 4,
 "nbformat_minor": 0
}
