{
 "cells": [
  {
   "cell_type": "markdown",
   "metadata": {
    "application/vnd.databricks.v1+cell": {
     "cellMetadata": {
      "byteLimit": 2048000,
      "rowLimit": 10000
     },
     "inputWidgets": {},
     "nuid": "5b2addf1-d81d-42ac-a5ee-f9e15689804d",
     "showTitle": false,
     "title": ""
    }
   },
   "source": [
    "##### Read all the data as required"
   ]
  },
  {
   "cell_type": "code",
   "execution_count": 0,
   "metadata": {
    "application/vnd.databricks.v1+cell": {
     "cellMetadata": {
      "byteLimit": 2048000,
      "rowLimit": 10000
     },
     "inputWidgets": {},
     "nuid": "8bed4b24-a8a5-43ff-8589-446a957234e2",
     "showTitle": false,
     "title": ""
    }
   },
   "outputs": [],
   "source": [
    "%run \"/Users/nishchalvaishnav2403@gmail.com/Formula1-project/transform_and_store_to_presentation/includes/configuration\""
   ]
  },
  {
   "cell_type": "code",
   "execution_count": 0,
   "metadata": {
    "application/vnd.databricks.v1+cell": {
     "cellMetadata": {
      "byteLimit": 2048000,
      "rowLimit": 10000
     },
     "inputWidgets": {},
     "nuid": "5f9b33a8-00b3-450f-8f34-8ae02e168a4e",
     "showTitle": false,
     "title": ""
    }
   },
   "outputs": [],
   "source": [
    "drivers_df = spark.read.parquet(f\"{processed_folder_path}/drivers\") \\\n",
    ".withColumnRenamed(\"number\", \"driver_number\") \\\n",
    ".withColumnRenamed(\"name\", \"driver_name\") \\\n",
    ".withColumnRenamed(\"nationality\", \"driver_nationality\") "
   ]
  },
  {
   "cell_type": "code",
   "execution_count": 0,
   "metadata": {
    "application/vnd.databricks.v1+cell": {
     "cellMetadata": {
      "byteLimit": 2048000,
      "rowLimit": 10000
     },
     "inputWidgets": {},
     "nuid": "1e1f003e-4cac-44ec-bc9d-6acfa5bbd321",
     "showTitle": false,
     "title": ""
    }
   },
   "outputs": [],
   "source": [
    "constructors_df = spark.read.parquet(f\"{processed_folder_path}/constructors\") \\\n",
    ".withColumnRenamed(\"name\", \"team\") "
   ]
  },
  {
   "cell_type": "code",
   "execution_count": 0,
   "metadata": {
    "application/vnd.databricks.v1+cell": {
     "cellMetadata": {
      "byteLimit": 2048000,
      "rowLimit": 10000
     },
     "inputWidgets": {},
     "nuid": "6d8b4aa5-ef46-4a39-b475-b8b406c5bddd",
     "showTitle": false,
     "title": ""
    }
   },
   "outputs": [],
   "source": [
    "circuits_df = spark.read.parquet(f\"{processed_folder_path}/circuits\") \\\n",
    ".withColumnRenamed(\"location\", \"circuit_location\") "
   ]
  },
  {
   "cell_type": "code",
   "execution_count": 0,
   "metadata": {
    "application/vnd.databricks.v1+cell": {
     "cellMetadata": {
      "byteLimit": 2048000,
      "rowLimit": 10000
     },
     "inputWidgets": {},
     "nuid": "45265110-2097-431a-91a7-44d659c5df10",
     "showTitle": false,
     "title": ""
    }
   },
   "outputs": [],
   "source": [
    "races_df = spark.read.parquet(f\"{processed_folder_path}/races\") \\\n",
    ".withColumnRenamed(\"name\", \"race_name\") \\\n",
    ".withColumnRenamed(\"race_timestamp\", \"race_date\") "
   ]
  },
  {
   "cell_type": "code",
   "execution_count": 0,
   "metadata": {
    "application/vnd.databricks.v1+cell": {
     "cellMetadata": {
      "byteLimit": 2048000,
      "rowLimit": 10000
     },
     "inputWidgets": {},
     "nuid": "c1524d6c-92c2-450b-9680-e8daa5272bdf",
     "showTitle": false,
     "title": ""
    }
   },
   "outputs": [],
   "source": [
    "results_df = spark.read.parquet(f\"{processed_folder_path}/results\") \\\n",
    ".withColumnRenamed(\"time\", \"race_time\") "
   ]
  },
  {
   "cell_type": "markdown",
   "metadata": {
    "application/vnd.databricks.v1+cell": {
     "cellMetadata": {
      "byteLimit": 2048000,
      "rowLimit": 10000
     },
     "inputWidgets": {},
     "nuid": "41d1ebe5-4470-496a-84b4-8085d53ae94f",
     "showTitle": false,
     "title": ""
    }
   },
   "source": [
    "##### Join circuits to races"
   ]
  },
  {
   "cell_type": "code",
   "execution_count": 0,
   "metadata": {
    "application/vnd.databricks.v1+cell": {
     "cellMetadata": {
      "byteLimit": 2048000,
      "rowLimit": 10000
     },
     "inputWidgets": {},
     "nuid": "388f5e91-e4b0-4ad6-84fc-5f6a65da6dac",
     "showTitle": false,
     "title": ""
    }
   },
   "outputs": [],
   "source": [
    "race_circuits_df = races_df.join(circuits_df, races_df.circuit_id == circuits_df.circuits_id, \"inner\") \\\n",
    ".select(races_df.race_id, races_df.race_year, races_df.race_name, races_df.race_date, circuits_df.circuit_location)"
   ]
  },
  {
   "cell_type": "markdown",
   "metadata": {
    "application/vnd.databricks.v1+cell": {
     "cellMetadata": {
      "byteLimit": 2048000,
      "rowLimit": 10000
     },
     "inputWidgets": {},
     "nuid": "a5fe4fa1-caa2-4f72-83ae-7b5deb7e4e2f",
     "showTitle": false,
     "title": ""
    }
   },
   "source": [
    "##### Join results to all other dataframes"
   ]
  },
  {
   "cell_type": "code",
   "execution_count": 0,
   "metadata": {
    "application/vnd.databricks.v1+cell": {
     "cellMetadata": {
      "byteLimit": 2048000,
      "rowLimit": 10000
     },
     "inputWidgets": {},
     "nuid": "5b5c9e3c-af2b-49bb-a2c6-47849fc829ae",
     "showTitle": false,
     "title": ""
    }
   },
   "outputs": [],
   "source": [
    "race_results_df = results_df.join(race_circuits_df, results_df.race_id == race_circuits_df.race_id) \\\n",
    "                            .join(drivers_df, results_df.driver_id == drivers_df.driver_id) \\\n",
    "                            .join(constructors_df, results_df.constructor_id == constructors_df.constructor_id)"
   ]
  },
  {
   "cell_type": "code",
   "execution_count": 0,
   "metadata": {
    "application/vnd.databricks.v1+cell": {
     "cellMetadata": {
      "byteLimit": 2048000,
      "rowLimit": 10000
     },
     "inputWidgets": {},
     "nuid": "5becc691-615a-47c8-80f5-c128cc907259",
     "showTitle": false,
     "title": ""
    }
   },
   "outputs": [],
   "source": [
    "from pyspark.sql.functions import current_timestamp"
   ]
  },
  {
   "cell_type": "code",
   "execution_count": 0,
   "metadata": {
    "application/vnd.databricks.v1+cell": {
     "cellMetadata": {
      "byteLimit": 2048000,
      "rowLimit": 10000
     },
     "inputWidgets": {},
     "nuid": "c96fd24a-cc8f-4e56-9e7a-d20c6a04c982",
     "showTitle": false,
     "title": ""
    }
   },
   "outputs": [],
   "source": [
    "final_df = race_results_df.select(\"race_year\", \"race_name\", \"race_date\", \"circuit_location\", \"driver_name\", \"driver_number\", \"driver_nationality\",\"team\", \"grid\", \"fastest_lap\", \"race_time\", \"points\", \"position\") \\\n",
    "       .withColumn(\"created_date\", current_timestamp())"
   ]
  },
  {
   "cell_type": "code",
   "execution_count": 0,
   "metadata": {
    "application/vnd.databricks.v1+cell": {
     "cellMetadata": {
      "byteLimit": 2048000,
      "rowLimit": 10000
     },
     "inputWidgets": {},
     "nuid": "4e26ca10-5497-4394-93fc-5a1429dd26be",
     "showTitle": false,
     "title": ""
    }
   },
   "outputs": [],
   "source": [
    "# pattern_condition = final_df[\"circuit_location\"].like(\"%1%\")\n",
    "# pattern_condition2 = final_df[\"circuit_location\"].like(\"%2%\")\n",
    "# pattern_condition3 = final_df[\"circuit_location\"].like(\"%3%\")\n",
    "# pattern_condition4 = final_df[\"circuit_location\"].like(\"%4%\")\n",
    "# pattern_condition5 = final_df[\"circuit_location\"].like(\"%5%\")\n",
    "# pattern_condition6 = final_df[\"circuit_location\"].like(\"%6%\")\n",
    "# pattern_condition7 = final_df[\"circuit_location\"].like(\"%7%\")\n",
    "# pattern_condition8 = final_df[\"circuit_location\"].like(\"%8%\")\n",
    "# pattern_condition9 = final_df[\"circuit_location\"].like(\"%9%\")\n",
    "# pattern_condition0 = final_df[\"circuit_location\"].like(\"%0%\")\n",
    "\n",
    "# combined_condition = (pattern_condition) | (pattern_condition2) | (pattern_condition3) | (pattern_condition4) | (pattern_condition5) | (pattern_condition6) | (pattern_condition7) | (pattern_condition8) | (pattern_condition9) | (pattern_condition0)\n",
    "# final_df = final_df.filter((~combined_condition))\n",
    "# final_df.show(4990, truncate=False)"
   ]
  },
  {
   "cell_type": "code",
   "execution_count": 0,
   "metadata": {
    "application/vnd.databricks.v1+cell": {
     "cellMetadata": {
      "byteLimit": 2048000,
      "rowLimit": 10000
     },
     "inputWidgets": {},
     "nuid": "ec3d1a39-3680-43d2-b95a-d2e314ff208e",
     "showTitle": false,
     "title": ""
    }
   },
   "outputs": [
    {
     "output_type": "display_data",
     "data": {
      "text/html": [
       "<style scoped>\n",
       "  .table-result-container {\n",
       "    max-height: 300px;\n",
       "    overflow: auto;\n",
       "  }\n",
       "  table, th, td {\n",
       "    border: 1px solid black;\n",
       "    border-collapse: collapse;\n",
       "  }\n",
       "  th, td {\n",
       "    padding: 5px;\n",
       "  }\n",
       "  th {\n",
       "    text-align: left;\n",
       "  }\n",
       "</style><div class='table-result-container'><table class='table-result'><thead style='background-color: white'><tr><th>race_year</th><th>race_name</th><th>race_date</th><th>circuit_location</th><th>driver_name</th><th>driver_number</th><th>driver_nationality</th><th>team</th><th>grid</th><th>fastest_lap</th><th>race_time</th><th>points</th><th>position</th><th>created_date</th></tr></thead><tbody><tr><td>2020</td><td>Abu Dhabi Grand Prix</td><td>2020-12-13T13:10:00Z</td><td>Abu Dhabi</td><td>Max Verstappen</td><td>33</td><td>Dutch</td><td>Red Bull</td><td>1</td><td>14</td><td>1:36:28.645</td><td>25.0</td><td>1</td><td>2024-02-01T09:02:14.231Z</td></tr><tr><td>2020</td><td>Abu Dhabi Grand Prix</td><td>2020-12-13T13:10:00Z</td><td>Abu Dhabi</td><td>Valtteri Bottas</td><td>77</td><td>Finnish</td><td>Mercedes</td><td>2</td><td>40</td><td>+15.976</td><td>18.0</td><td>2</td><td>2024-02-01T09:02:14.231Z</td></tr><tr><td>2020</td><td>Abu Dhabi Grand Prix</td><td>2020-12-13T13:10:00Z</td><td>Abu Dhabi</td><td>Lewis Hamilton</td><td>44</td><td>British</td><td>Mercedes</td><td>3</td><td>37</td><td>+18.415</td><td>15.0</td><td>3</td><td>2024-02-01T09:02:14.231Z</td></tr><tr><td>2020</td><td>Abu Dhabi Grand Prix</td><td>2020-12-13T13:10:00Z</td><td>Abu Dhabi</td><td>Alexander Albon</td><td>23</td><td>Thai</td><td>Red Bull</td><td>5</td><td>42</td><td>+19.987</td><td>12.0</td><td>4</td><td>2024-02-01T09:02:14.231Z</td></tr><tr><td>2020</td><td>Abu Dhabi Grand Prix</td><td>2020-12-13T13:10:00Z</td><td>Abu Dhabi</td><td>Lando Norris</td><td>4</td><td>British</td><td>McLaren</td><td>4</td><td>53</td><td>+1:00.729</td><td>10.0</td><td>5</td><td>2024-02-01T09:02:14.231Z</td></tr><tr><td>2020</td><td>Abu Dhabi Grand Prix</td><td>2020-12-13T13:10:00Z</td><td>Abu Dhabi</td><td>Carlos Sainz</td><td>55</td><td>Spanish</td><td>McLaren</td><td>6</td><td>48</td><td>+1:05.662</td><td>8.0</td><td>6</td><td>2024-02-01T09:02:14.231Z</td></tr><tr><td>2020</td><td>Abu Dhabi Grand Prix</td><td>2020-12-13T13:10:00Z</td><td>Abu Dhabi</td><td>Daniel Ricciardo</td><td>3</td><td>Australian</td><td>Renault</td><td>11</td><td>55</td><td>+1:13.748</td><td>7.0</td><td>7</td><td>2024-02-01T09:02:14.231Z</td></tr><tr><td>2020</td><td>Abu Dhabi Grand Prix</td><td>2020-12-13T13:10:00Z</td><td>Abu Dhabi</td><td>Pierre Gasly</td><td>10</td><td>French</td><td>AlphaTauri</td><td>9</td><td>53</td><td>+1:29.718</td><td>4.0</td><td>8</td><td>2024-02-01T09:02:14.231Z</td></tr><tr><td>2020</td><td>Abu Dhabi Grand Prix</td><td>2020-12-13T13:10:00Z</td><td>Abu Dhabi</td><td>Esteban Ocon</td><td>31</td><td>French</td><td>Renault</td><td>10</td><td>47</td><td>+1:41.069</td><td>2.0</td><td>9</td><td>2024-02-01T09:02:14.231Z</td></tr><tr><td>2020</td><td>Abu Dhabi Grand Prix</td><td>2020-12-13T13:10:00Z</td><td>Abu Dhabi</td><td>Lance Stroll</td><td>18</td><td>Canadian</td><td>Racing Point</td><td>8</td><td>41</td><td>+1:42.738</td><td>1.0</td><td>10</td><td>2024-02-01T09:02:14.231Z</td></tr><tr><td>2020</td><td>Abu Dhabi Grand Prix</td><td>2020-12-13T13:10:00Z</td><td>Abu Dhabi</td><td>Sergio Pérez</td><td>11</td><td>Mexican</td><td>Racing Point</td><td>19</td><td>6</td><td>\\N</td><td>0.0</td><td>null</td><td>2024-02-01T09:02:14.231Z</td></tr><tr><td>2020</td><td>Abu Dhabi Grand Prix</td><td>2020-12-13T13:10:00Z</td><td>Abu Dhabi</td><td>Pietro Fittipaldi</td><td>51</td><td>Brazilian</td><td>Haas F1 Team</td><td>17</td><td>50</td><td>\\N</td><td>0.0</td><td>19</td><td>2024-02-01T09:02:14.231Z</td></tr><tr><td>2020</td><td>Abu Dhabi Grand Prix</td><td>2020-12-13T13:10:00Z</td><td>Abu Dhabi</td><td>Kevin Magnussen</td><td>20</td><td>Danish</td><td>Haas F1 Team</td><td>20</td><td>50</td><td>\\N</td><td>0.0</td><td>18</td><td>2024-02-01T09:02:14.231Z</td></tr><tr><td>2020</td><td>Abu Dhabi Grand Prix</td><td>2020-12-13T13:10:00Z</td><td>Abu Dhabi</td><td>Nicholas Latifi</td><td>6</td><td>Canadian</td><td>Williams</td><td>18</td><td>49</td><td>\\N</td><td>0.0</td><td>17</td><td>2024-02-01T09:02:14.231Z</td></tr><tr><td>2020</td><td>Abu Dhabi Grand Prix</td><td>2020-12-13T13:10:00Z</td><td>Abu Dhabi</td><td>Antonio Giovinazzi</td><td>99</td><td>Italian</td><td>Alfa Romeo</td><td>14</td><td>29</td><td>\\N</td><td>0.0</td><td>16</td><td>2024-02-01T09:02:14.231Z</td></tr><tr><td>2020</td><td>Abu Dhabi Grand Prix</td><td>2020-12-13T13:10:00Z</td><td>Abu Dhabi</td><td>George Russell</td><td>63</td><td>British</td><td>Williams</td><td>16</td><td>54</td><td>\\N</td><td>0.0</td><td>15</td><td>2024-02-01T09:02:14.231Z</td></tr><tr><td>2020</td><td>Abu Dhabi Grand Prix</td><td>2020-12-13T13:10:00Z</td><td>Abu Dhabi</td><td>Sebastian Vettel</td><td>5</td><td>German</td><td>Ferrari</td><td>13</td><td>37</td><td>\\N</td><td>0.0</td><td>14</td><td>2024-02-01T09:02:14.231Z</td></tr><tr><td>2020</td><td>Abu Dhabi Grand Prix</td><td>2020-12-13T13:10:00Z</td><td>Abu Dhabi</td><td>Charles Leclerc</td><td>16</td><td>Monegasque</td><td>Ferrari</td><td>12</td><td>24</td><td>\\N</td><td>0.0</td><td>13</td><td>2024-02-01T09:02:14.231Z</td></tr><tr><td>2020</td><td>Abu Dhabi Grand Prix</td><td>2020-12-13T13:10:00Z</td><td>Abu Dhabi</td><td>Kimi Räikkönen</td><td>7</td><td>Finnish</td><td>Alfa Romeo</td><td>15</td><td>53</td><td>\\N</td><td>0.0</td><td>12</td><td>2024-02-01T09:02:14.231Z</td></tr><tr><td>2020</td><td>Abu Dhabi Grand Prix</td><td>2020-12-13T13:10:00Z</td><td>Abu Dhabi</td><td>Daniil Kvyat</td><td>26</td><td>Russian</td><td>AlphaTauri</td><td>7</td><td>47</td><td>\\N</td><td>0.0</td><td>11</td><td>2024-02-01T09:02:14.231Z</td></tr></tbody></table></div>"
      ]
     },
     "metadata": {
      "application/vnd.databricks.v1+output": {
       "addedWidgets": {},
       "aggData": [],
       "aggError": "",
       "aggOverflow": false,
       "aggSchema": [],
       "aggSeriesLimitReached": false,
       "aggType": "",
       "arguments": {},
       "columnCustomDisplayInfos": {},
       "data": [
        [
         2020,
         "Abu Dhabi Grand Prix",
         "2020-12-13T13:10:00Z",
         "Abu Dhabi",
         "Max Verstappen",
         33,
         "Dutch",
         "Red Bull",
         1,
         14,
         "1:36:28.645",
         25.0,
         1,
         "2024-02-01T09:02:14.231Z"
        ],
        [
         2020,
         "Abu Dhabi Grand Prix",
         "2020-12-13T13:10:00Z",
         "Abu Dhabi",
         "Valtteri Bottas",
         77,
         "Finnish",
         "Mercedes",
         2,
         40,
         "+15.976",
         18.0,
         2,
         "2024-02-01T09:02:14.231Z"
        ],
        [
         2020,
         "Abu Dhabi Grand Prix",
         "2020-12-13T13:10:00Z",
         "Abu Dhabi",
         "Lewis Hamilton",
         44,
         "British",
         "Mercedes",
         3,
         37,
         "+18.415",
         15.0,
         3,
         "2024-02-01T09:02:14.231Z"
        ],
        [
         2020,
         "Abu Dhabi Grand Prix",
         "2020-12-13T13:10:00Z",
         "Abu Dhabi",
         "Alexander Albon",
         23,
         "Thai",
         "Red Bull",
         5,
         42,
         "+19.987",
         12.0,
         4,
         "2024-02-01T09:02:14.231Z"
        ],
        [
         2020,
         "Abu Dhabi Grand Prix",
         "2020-12-13T13:10:00Z",
         "Abu Dhabi",
         "Lando Norris",
         4,
         "British",
         "McLaren",
         4,
         53,
         "+1:00.729",
         10.0,
         5,
         "2024-02-01T09:02:14.231Z"
        ],
        [
         2020,
         "Abu Dhabi Grand Prix",
         "2020-12-13T13:10:00Z",
         "Abu Dhabi",
         "Carlos Sainz",
         55,
         "Spanish",
         "McLaren",
         6,
         48,
         "+1:05.662",
         8.0,
         6,
         "2024-02-01T09:02:14.231Z"
        ],
        [
         2020,
         "Abu Dhabi Grand Prix",
         "2020-12-13T13:10:00Z",
         "Abu Dhabi",
         "Daniel Ricciardo",
         3,
         "Australian",
         "Renault",
         11,
         55,
         "+1:13.748",
         7.0,
         7,
         "2024-02-01T09:02:14.231Z"
        ],
        [
         2020,
         "Abu Dhabi Grand Prix",
         "2020-12-13T13:10:00Z",
         "Abu Dhabi",
         "Pierre Gasly",
         10,
         "French",
         "AlphaTauri",
         9,
         53,
         "+1:29.718",
         4.0,
         8,
         "2024-02-01T09:02:14.231Z"
        ],
        [
         2020,
         "Abu Dhabi Grand Prix",
         "2020-12-13T13:10:00Z",
         "Abu Dhabi",
         "Esteban Ocon",
         31,
         "French",
         "Renault",
         10,
         47,
         "+1:41.069",
         2.0,
         9,
         "2024-02-01T09:02:14.231Z"
        ],
        [
         2020,
         "Abu Dhabi Grand Prix",
         "2020-12-13T13:10:00Z",
         "Abu Dhabi",
         "Lance Stroll",
         18,
         "Canadian",
         "Racing Point",
         8,
         41,
         "+1:42.738",
         1.0,
         10,
         "2024-02-01T09:02:14.231Z"
        ],
        [
         2020,
         "Abu Dhabi Grand Prix",
         "2020-12-13T13:10:00Z",
         "Abu Dhabi",
         "Sergio Pérez",
         11,
         "Mexican",
         "Racing Point",
         19,
         6,
         "\\N",
         0.0,
         null,
         "2024-02-01T09:02:14.231Z"
        ],
        [
         2020,
         "Abu Dhabi Grand Prix",
         "2020-12-13T13:10:00Z",
         "Abu Dhabi",
         "Pietro Fittipaldi",
         51,
         "Brazilian",
         "Haas F1 Team",
         17,
         50,
         "\\N",
         0.0,
         19,
         "2024-02-01T09:02:14.231Z"
        ],
        [
         2020,
         "Abu Dhabi Grand Prix",
         "2020-12-13T13:10:00Z",
         "Abu Dhabi",
         "Kevin Magnussen",
         20,
         "Danish",
         "Haas F1 Team",
         20,
         50,
         "\\N",
         0.0,
         18,
         "2024-02-01T09:02:14.231Z"
        ],
        [
         2020,
         "Abu Dhabi Grand Prix",
         "2020-12-13T13:10:00Z",
         "Abu Dhabi",
         "Nicholas Latifi",
         6,
         "Canadian",
         "Williams",
         18,
         49,
         "\\N",
         0.0,
         17,
         "2024-02-01T09:02:14.231Z"
        ],
        [
         2020,
         "Abu Dhabi Grand Prix",
         "2020-12-13T13:10:00Z",
         "Abu Dhabi",
         "Antonio Giovinazzi",
         99,
         "Italian",
         "Alfa Romeo",
         14,
         29,
         "\\N",
         0.0,
         16,
         "2024-02-01T09:02:14.231Z"
        ],
        [
         2020,
         "Abu Dhabi Grand Prix",
         "2020-12-13T13:10:00Z",
         "Abu Dhabi",
         "George Russell",
         63,
         "British",
         "Williams",
         16,
         54,
         "\\N",
         0.0,
         15,
         "2024-02-01T09:02:14.231Z"
        ],
        [
         2020,
         "Abu Dhabi Grand Prix",
         "2020-12-13T13:10:00Z",
         "Abu Dhabi",
         "Sebastian Vettel",
         5,
         "German",
         "Ferrari",
         13,
         37,
         "\\N",
         0.0,
         14,
         "2024-02-01T09:02:14.231Z"
        ],
        [
         2020,
         "Abu Dhabi Grand Prix",
         "2020-12-13T13:10:00Z",
         "Abu Dhabi",
         "Charles Leclerc",
         16,
         "Monegasque",
         "Ferrari",
         12,
         24,
         "\\N",
         0.0,
         13,
         "2024-02-01T09:02:14.231Z"
        ],
        [
         2020,
         "Abu Dhabi Grand Prix",
         "2020-12-13T13:10:00Z",
         "Abu Dhabi",
         "Kimi Räikkönen",
         7,
         "Finnish",
         "Alfa Romeo",
         15,
         53,
         "\\N",
         0.0,
         12,
         "2024-02-01T09:02:14.231Z"
        ],
        [
         2020,
         "Abu Dhabi Grand Prix",
         "2020-12-13T13:10:00Z",
         "Abu Dhabi",
         "Daniil Kvyat",
         26,
         "Russian",
         "AlphaTauri",
         7,
         47,
         "\\N",
         0.0,
         11,
         "2024-02-01T09:02:14.231Z"
        ]
       ],
       "datasetInfos": [],
       "dbfsResultPath": null,
       "isJsonSchema": true,
       "metadata": {},
       "overflow": false,
       "plotOptions": {
        "customPlotOptions": {},
        "displayType": "table",
        "pivotAggregation": null,
        "pivotColumns": null,
        "xColumns": null,
        "yColumns": null
       },
       "removedWidgets": [],
       "schema": [
        {
         "metadata": "{}",
         "name": "race_year",
         "type": "\"integer\""
        },
        {
         "metadata": "{}",
         "name": "race_name",
         "type": "\"string\""
        },
        {
         "metadata": "{}",
         "name": "race_date",
         "type": "\"timestamp\""
        },
        {
         "metadata": "{}",
         "name": "circuit_location",
         "type": "\"string\""
        },
        {
         "metadata": "{}",
         "name": "driver_name",
         "type": "\"string\""
        },
        {
         "metadata": "{}",
         "name": "driver_number",
         "type": "\"integer\""
        },
        {
         "metadata": "{}",
         "name": "driver_nationality",
         "type": "\"string\""
        },
        {
         "metadata": "{}",
         "name": "team",
         "type": "\"string\""
        },
        {
         "metadata": "{}",
         "name": "grid",
         "type": "\"integer\""
        },
        {
         "metadata": "{}",
         "name": "fastest_lap",
         "type": "\"integer\""
        },
        {
         "metadata": "{}",
         "name": "race_time",
         "type": "\"string\""
        },
        {
         "metadata": "{}",
         "name": "points",
         "type": "\"float\""
        },
        {
         "metadata": "{}",
         "name": "position",
         "type": "\"integer\""
        },
        {
         "metadata": "{}",
         "name": "created_date",
         "type": "\"timestamp\""
        }
       ],
       "type": "table"
      }
     },
     "output_type": "display_data"
    }
   ],
   "source": [
    "display(final_df.filter(\"race_year == 2020 and race_name == 'Abu Dhabi Grand Prix'\").orderBy(final_df.points.desc()))"
   ]
  },
  {
   "cell_type": "code",
   "execution_count": 0,
   "metadata": {
    "application/vnd.databricks.v1+cell": {
     "cellMetadata": {
      "byteLimit": 2048000,
      "rowLimit": 10000
     },
     "inputWidgets": {},
     "nuid": "04a51ad4-98b2-486d-8570-219cff1299b3",
     "showTitle": false,
     "title": ""
    }
   },
   "outputs": [],
   "source": [
    "final_df.write.mode(\"overwrite\").parquet(f\"{presentation_folder_path}/race_results\")"
   ]
  },
  {
   "cell_type": "code",
   "execution_count": 0,
   "metadata": {
    "application/vnd.databricks.v1+cell": {
     "cellMetadata": {
      "byteLimit": 2048000,
      "rowLimit": 10000
     },
     "inputWidgets": {},
     "nuid": "5513c64e-090f-4f3a-9762-2b767230a7a0",
     "showTitle": false,
     "title": ""
    }
   },
   "outputs": [],
   "source": []
  }
 ],
 "metadata": {
  "application/vnd.databricks.v1+notebook": {
   "dashboards": [],
   "language": "python",
   "notebookMetadata": {
    "pythonIndentUnit": 2
   },
   "notebookName": "1.race_results",
   "widgets": {}
  }
 },
 "nbformat": 4,
 "nbformat_minor": 0
}
